{
  "nbformat": 4,
  "nbformat_minor": 0,
  "metadata": {
    "colab": {
      "name": "funky_text_python.ipynb",
      "provenance": [],
      "collapsed_sections": []
    },
    "kernelspec": {
      "name": "python3",
      "display_name": "Python 3"
    }
  },
  "cells": [
    {
      "cell_type": "markdown",
      "metadata": {
        "id": "aFowDe1jqiqD",
        "colab_type": "text"
      },
      "source": [
        "# Writing Funky text program using Python\n",
        "\n",
        "\n",
        "pyfiglet takes ASCII text and renders it in ASCII art fonts. \n",
        "\n",
        "figlet_format method convert ASCII text into ASCII art fonts"
      ]
    },
    {
      "cell_type": "code",
      "metadata": {
        "id": "XwaAamlCp_36",
        "colab_type": "code",
        "colab": {
          "base_uri": "https://localhost:8080/",
          "height": 34
        },
        "outputId": "85acccc4-6bd4-4b46-a115-3f591817c9be"
      },
      "source": [
        "#installing pyfiglet\n",
        "!pip install pyfiglet"
      ],
      "execution_count": 1,
      "outputs": [
        {
          "output_type": "stream",
          "text": [
            "Requirement already satisfied: pyfiglet in /usr/local/lib/python3.6/dist-packages (0.8.post1)\n"
          ],
          "name": "stdout"
        }
      ]
    },
    {
      "cell_type": "code",
      "metadata": {
        "id": "gElMBZLhqE_y",
        "colab_type": "code",
        "colab": {}
      },
      "source": [
        "#importing pyfiglet\n",
        "import pyfiglet"
      ],
      "execution_count": 2,
      "outputs": []
    },
    {
      "cell_type": "code",
      "metadata": {
        "id": "9N9L6_9rqRbM",
        "colab_type": "code",
        "colab": {
          "base_uri": "https://localhost:8080/",
          "height": 134
        },
        "outputId": "2b049890-c5ac-4cb5-a0e5-048ef8df86ea"
      },
      "source": [
        "#changing \"HARINI\" (Normal text) to Funky Text\n",
        "word = pyfiglet.figlet_format( \" HARINI \")\n",
        "\n",
        "print(word)"
      ],
      "execution_count": 3,
      "outputs": [
        {
          "output_type": "stream",
          "text": [
            "  _   _    _    ____  ___ _   _ ___  \n",
            " | | | |  / \\  |  _ \\|_ _| \\ | |_ _| \n",
            " | |_| | / _ \\ | |_) || ||  \\| || |  \n",
            " |  _  |/ ___ \\|  _ < | || |\\  || |  \n",
            " |_| |_/_/   \\_\\_| \\_\\___|_| \\_|___| \n",
            "                                     \n",
            "\n"
          ],
          "name": "stdout"
        }
      ]
    },
    {
      "cell_type": "markdown",
      "metadata": {
        "id": "QmUfSwEmJY-R",
        "colab_type": "text"
      },
      "source": [
        "Now, we see HARINI Funky text"
      ]
    }
  ]
}